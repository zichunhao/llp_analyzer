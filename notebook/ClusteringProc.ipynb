{
 "cells": [
  {
   "cell_type": "code",
   "execution_count": 1,
   "metadata": {},
   "outputs": [
    {
     "name": "stdout",
     "output_type": "stream",
     "text": [
      "Welcome to JupyROOT 6.18/00\n"
     ]
    }
   ],
   "source": [
    "import ROOT as r\n",
    "import coffea\n",
    "import coffea.hist as hist\n",
    "import uproot\n",
    "import matplotlib.pyplot as plt\n",
    "import mplhep as hep\n",
    "import numpy as np\n",
    "\n",
    "from pyjet import cluster\n",
    "import awkward as ak\n",
    "import mplhep\n",
    "\n",
    "from sklearn.cluster import DBSCAN\n",
    "import numba"
   ]
  },
  {
   "cell_type": "code",
   "execution_count": 2,
   "metadata": {},
   "outputs": [],
   "source": [
    "import awkward as ak\n",
    "from coffea import hist, processor\n",
    "\n",
    "\n",
    "# register our candidate behaviors\n",
    "from coffea.nanoevents.methods import candidate\n",
    "ak.behavior.update(candidate.behavior)\n",
    "\n",
    "class MyProcessor(processor.ProcessorABC):\n",
    "    def __init__(self):\n",
    "        self._accumulator = processor.dict_accumulator({\n",
    "            \"sumw\": processor.defaultdict_accumulator(float),\n",
    "            \"cluster\": hist.Hist(\n",
    "                \"Events\",\n",
    "                hist.Cat(\"algo\", \"algo\"),\n",
    "                hist.Bin(\"eta\", \"eta\", 50, -3, 3),                \n",
    "                hist.Bin(\"phi\", \"phi\", 50, -np.pi, np.pi),\n",
    "                hist.Bin(\"size\", \"Cluster size\", 50, 0, 100),                \n",
    "            ),\n",
    "            \"nCluster\": hist.Hist(\n",
    "                \"Events\",\n",
    "                hist.Cat(\"algo\", \"algo\"),\n",
    "                hist.Bin(\"nClusters\", \"nCluster\", 10, 0, 10),                \n",
    "            ),\n",
    "        })\n",
    "\n",
    "    @property\n",
    "    def accumulator(self):\n",
    "        return self._accumulator\n",
    "\n",
    "    @numba.njit\n",
    "    def CAcluster(self,X,dR=1.0,nCore=50):\n",
    "        vectors=ak.zip({\n",
    "            'pt':ak.ones_like(X.phi),\n",
    "            'eta':X.eta,\n",
    "            'phi':X.phi,\n",
    "            'mass':ak.zeros_like(X.phi)\n",
    "        })\n",
    "        cls_eta=[]\n",
    "        cls_phi=[]\n",
    "        cls_size=[]\n",
    "        ncls   =[]\n",
    "        for v in vectors:\n",
    "            v = ak.to_numpy(v)\n",
    "            v = np.array([(i[0],i[1],i[2],i[3]) for i in v],\n",
    "                         dtype=[(u'pT', '<f8'), (u'eta', '<f8'), (u'phi', '<f8'), (u'mass', '<f8')])\n",
    "            clusterVals = cluster(v,R=dR,algo=\"cambridge\")\n",
    "            #include all rechits with ptmin=0\n",
    "            _jets = clusterVals.inclusive_jets(ptmin=0)\n",
    "            cls_eta.append([j.eta for j in _jets if len(j)>=nCore])\n",
    "            cls_phi.append([j.phi for j in _jets if len(j)>=nCore])\n",
    "            cls_size.append([len(j) for j in _jets if len(j)>=nCore])            \n",
    "            ncls.append(len([j.eta for j in _jets if len(j)>=nCore]))\n",
    "        return np.array(ncls),ak.Array(cls_eta),ak.Array(cls_phi),ak.Array(cls_size)\n",
    "    \n",
    "    @numba.njit\n",
    "    def DBScan(self,X,nCore,eps):\n",
    "        points=ak.zip([X.eta,X.phi])\n",
    "        \n",
    "        nCS=[]\n",
    "        masks=[]\n",
    "        etas=[]\n",
    "        phis=[]\n",
    "        size=[]\n",
    "        for x in points:\n",
    "            x=np.stack(ak.unzip(x),axis=1)## format into DBSCAN x=[ [x1,y1],[x2,y2] ... ]\n",
    "            db = DBSCAN(eps=eps, min_samples=nCore).fit(x)\n",
    "            core_samples_mask = np.zeros_like(db.labels_, dtype=bool)\n",
    "            core_samples_mask[db.core_sample_indices_] = True\n",
    "            labels = db.labels_    \n",
    "            n_clusters_ = len(set(labels)) - (1 if -1 in labels else 0)\n",
    "    #         print(labels,set(labels),n_clusters_)\n",
    "            cl_eta=[]\n",
    "            cl_phi=[]\n",
    "            cl_size=[]\n",
    "            for iCs in range(n_clusters_):\n",
    "                rh_eta=x[labels==iCs][:,0]\n",
    "                rh_phi=x[labels==iCs][:,1]            \n",
    "                cl_eta.append(np.mean(rh_eta))\n",
    "                cl_phi.append(np.mean(rh_phi))            \n",
    "                cl_size.append(len(rh_eta))\n",
    "            nCS.append(n_clusters_)\n",
    "            masks.append(core_samples_mask)\n",
    "            etas.append(cl_eta)\n",
    "            phis.append(cl_phi)\n",
    "            size.append(cl_size)\n",
    "        return np.array(nCS),ak.Array(etas),ak.Array(phis),ak.Array(size)    \n",
    "\n",
    "    def performClusters(self,algo,X):\n",
    "        if \"CA\" in algo['name']:\n",
    "            nCS,eta,phi,size = self.CAcluster(X,dR=algo['pams']['dR'],nCore=algo['pams']['nCore'])\n",
    "        elif \"DB\" in algo['name']:\n",
    "            nCS,eta,phi,size = self.DBScan(X,nCore=algo['pams']['nCore'],eps=algo['pams']['eps'])        \n",
    "        return nCS,eta,phi,size\n",
    "\n",
    "    \n",
    "    def process(self, events):\n",
    "        output = self.accumulator.identity()\n",
    "\n",
    "        nRechits = events.ncscRechits\n",
    "        eta,phi = events.cscRechitsEta, events.cscRechitsPhi\n",
    "        X = ak.zip({\n",
    "            'n':nRechits,\n",
    "            \"eta\":eta,\n",
    "            \"phi\":phi,\n",
    "\n",
    "        })\n",
    "        \n",
    "        ## filter events with at least 1 rechits\n",
    "        X= X[ak.num(X,axis=1)>0]\n",
    "        algos = [\n",
    "#             {\"name\":\"CA(dR=0.2,nCore>10)\"              ,\"pams\":{\"dR\":0.2,'nCore':10}},\n",
    "            {\"name\":\"CA(dR=0.2,nCore>50)\"              ,\"pams\":{\"dR\":0.2,'nCore':50}},            \n",
    "#             {\"name\":\"DBScan(eps=0.2,nCore=10)\",\"pams\":{\"eps\":0.2,\"nCore\":10}},            \n",
    "            {\"name\":\"DBScan(eps=0.2,nCore=50)\",\"pams\":{\"eps\":0.2,\"nCore\":50}},\n",
    "        ]\n",
    "       \n",
    "        for algo in algos:\n",
    "            nCS,eta,phi,size = self.performClusters(algo,X)\n",
    "            output['nCluster'].fill(algo=algo['name'],nClusters=nCS)\n",
    "            output['cluster'].fill(algo=algo['name'],\n",
    "                                   eta=ak.flatten(eta),\n",
    "                                   phi=ak.flatten(phi),\n",
    "                                  size=ak.flatten(size))\n",
    "                   \n",
    "        \n",
    "        return output\n",
    "\n",
    "    def postprocess(self, accumulator):\n",
    "        return accumulator"
   ]
  },
  {
   "cell_type": "code",
   "execution_count": null,
   "metadata": {},
   "outputs": [],
   "source": []
  },
  {
   "cell_type": "code",
   "execution_count": null,
   "metadata": {
    "scrolled": false
   },
   "outputs": [
    {
     "data": {
      "application/vnd.jupyter.widget-view+json": {
       "model_id": "f868e3f1c0d0445780ae4ec807ec4185",
       "version_major": 2,
       "version_minor": 0
      },
      "text/plain": [
       "Preprocessing:   0%|          | 0/3 [00:00<?, ?file/s]"
      ]
     },
     "metadata": {},
     "output_type": "display_data"
    },
    {
     "data": {
      "application/vnd.jupyter.widget-view+json": {
       "model_id": "84b271948aa9418aa66f9ee13a5fc769",
       "version_major": 2,
       "version_minor": 0
      },
      "text/plain": [
       "Processing:   0%|          | 0/4 [00:00<?, ?chunk/s]"
      ]
     },
     "metadata": {},
     "output_type": "display_data"
    }
   ],
   "source": [
    "fileset = {\n",
    "    'Higgs': [\n",
    "#         '/uscms/home/kkwok/work/LLP/CMSSW_10_6_20/src/llp_analyzer/displacedJetMuon_ntupler_9.root',\n",
    "\"root://cmsxrootd.fnal.gov//store/group/phys_exotica/delayedjets/displacedJetMuonNtuple/V1p17/MC_Fall18/v1/sixie/ggH_HToSSTobbbb_MH-125_TuneCP5_13TeV-powheg-pythia8/Run2_Run2_displacedJetMuonNtupler_V1p17_MC_Fall18_RunIIAutumn18DRPremix-rp_102X_upgrade2018_realistic_v15-v1_v1_v2/200520_202800/0000/displacedJetMuon_ntupler_1.root\",\n",
    "\"root://cmsxrootd.fnal.gov//store/group/phys_exotica/delayedjets/displacedJetMuonNtuple/V1p17/MC_Fall18/v1/sixie/ggH_HToSSTobbbb_MH-125_TuneCP5_13TeV-powheg-pythia8/Run2_Run2_displacedJetMuonNtupler_V1p17_MC_Fall18_RunIIAutumn18DRPremix-rp_102X_upgrade2018_realistic_v15-v1_v1_v2/200520_202800/0000/displacedJetMuon_ntupler_2.root\",        \n",
    "\"root://cmsxrootd.fnal.gov//store/group/phys_exotica/delayedjets/displacedJetMuonNtuple/V1p17/MC_Fall18/v1/sixie/ggH_HToSSTobbbb_MH-125_TuneCP5_13TeV-powheg-pythia8/Run2_Run2_displacedJetMuonNtupler_V1p17_MC_Fall18_RunIIAutumn18DRPremix-rp_102X_upgrade2018_realistic_v15-v1_v1_v2/200520_202800/0000/displacedJetMuon_ntupler_3.root\" ,       \n",
    "\"root://cmsxrootd.fnal.gov//store/group/phys_exotica/delayedjets/displacedJetMuonNtuple/V1p17/MC_Fall18/v1/sixie/ggH_HToSSTobbbb_MH-125_TuneCP5_13TeV-powheg-pythia8/Run2_Run2_displacedJetMuonNtupler_V1p17_MC_Fall18_RunIIAutumn18DRPremix-rp_102X_upgrade2018_realistic_v15-v1_v1_v2/200520_202800/0000/displacedJetMuon_ntupler_4.root\" ,       \n",
    "    ],\n",
    "}\n",
    "\n",
    "out = processor.run_uproot_job(\n",
    "    fileset,\n",
    "    treename=\"ntuples/llp\",\n",
    "    processor_instance=MyProcessor(),\n",
    "    executor=processor.iterative_executor,\n",
    "    executor_args={\n",
    "        \"schema\": None,\n",
    "    },\n",
    "#     maxchunks=2,\n",
    "#     chunksize=100\n",
    ")\n",
    "out"
   ]
  },
  {
   "cell_type": "code",
   "execution_count": 36,
   "metadata": {},
   "outputs": [],
   "source": [
    "h = out['cluster']"
   ]
  },
  {
   "cell_type": "code",
   "execution_count": 39,
   "metadata": {},
   "outputs": [
    {
     "data": {
      "text/plain": [
       "<Hist (algo,eta) instance at 0x7f16b8eac438>"
      ]
     },
     "execution_count": 39,
     "metadata": {},
     "output_type": "execute_result"
    }
   ],
   "source": [
    "h.sum('nClusters','phi')"
   ]
  },
  {
   "cell_type": "code",
   "execution_count": 5,
   "metadata": {},
   "outputs": [
    {
     "data": {
      "image/png": "[encoded data removed]",
      "text/plain": [
       "<Figure size 864x432 with 4 Axes>"
      ]
     },
     "metadata": {
      "needs_background": "light"
     },
     "output_type": "display_data"
    }
   ],
   "source": [
    "h=out['cluster']\n",
    "\n",
    "ncols=2\n",
    "nrows=2\n",
    "figsize=(6,3)\n",
    "\n",
    "fig, axs = plt.subplots(nrows, ncols, squeeze=False,\n",
    "                        figsize=[ncols*figsize[0],nrows*figsize[1]])\n",
    "axs = axs.flatten()\n",
    "\n",
    "hist.plot1d(out['nCluster'],ax=axs[0],density=True, overlay='algo',clear=False)\n",
    "hist.plot1d(h.sum('phi','size'),ax=axs[1]   ,density=True, overlay='algo',clear=False)\n",
    "hist.plot1d(h.sum('eta','size'),ax=axs[2]   ,density=True, overlay='algo',clear=False)\n",
    "hist.plot1d(h.sum('eta','phi'),ax=axs[3]   ,density=True, overlay='algo',clear=False)\n",
    "\n",
    "plt.tight_layout()\n",
    "plt.show()"
   ]
  },
  {
   "cell_type": "code",
   "execution_count": null,
   "metadata": {},
   "outputs": [],
   "source": []
  }
 ],
 "metadata": {
  "kernelspec": {
   "display_name": "coffeaenv",
   "language": "python",
   "name": "coffeaenv"
  },
  "language_info": {
   "codemirror_mode": {
    "name": "ipython",
    "version": 3
   },
   "file_extension": ".py",
   "mimetype": "text/x-python",
   "name": "python",
   "nbconvert_exporter": "python",
   "pygments_lexer": "ipython3",
   "version": "3.6.5"
  }
 },
 "nbformat": 4,
 "nbformat_minor": 2
}
