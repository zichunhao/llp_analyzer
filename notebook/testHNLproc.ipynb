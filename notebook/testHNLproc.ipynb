{
 "cells": [
  {
   "cell_type": "code",
   "execution_count": 72,
   "metadata": {},
   "outputs": [],
   "source": [
    "import ROOT as r\n",
    "import coffea\n",
    "import coffea.hist as hist\n",
    "from coffea.nanoevents.methods import vector\n",
    "import uproot\n",
    "import matplotlib.pyplot as plt\n",
    "import mplhep as hep\n",
    "import numpy as np\n",
    "\n",
    "from pyjet import cluster\n",
    "import awkward as ak\n",
    "import mplhep"
   ]
  },
  {
   "cell_type": "code",
   "execution_count": 187,
   "metadata": {},
   "outputs": [],
   "source": [
    "events_raw = uproot.open(\"~/eos/llp/HNL/HeavyNeutralLepton_Tree.root\")['MuonSystem']\n",
    "# events_raw = uproot.open(\"../ggH_HToSSTodddd_v2/HeavyNeutralLepton_Tree_45_7_1000.root\")['MuonSystem']\n",
    "\n",
    "df = coffea.processor.LazyDataFrame(events_raw,entrystop=10)\n",
    "events = uproot.lazy(df._tree)"
   ]
  },
  {
   "cell_type": "code",
   "execution_count": 137,
   "metadata": {},
   "outputs": [],
   "source": [
    "events = events[:2000]"
   ]
  },
  {
   "cell_type": "code",
   "execution_count": 204,
   "metadata": {},
   "outputs": [
    {
     "data": {
      "text/plain": [
       "<Array [-2.4, -999, -2.78, ... -999, -999] type='151269 * float32'>"
      ]
     },
     "execution_count": 204,
     "metadata": {},
     "output_type": "execute_result"
    }
   ],
   "source": [
    "events.jetMet_dPhi"
   ]
  },
  {
   "cell_type": "code",
   "execution_count": 188,
   "metadata": {},
   "outputs": [
    {
     "name": "stdout",
     "output_type": "stream",
     "text": [
      "LLP decay inside CSC =  4416\n",
      "Total events =  151269\n",
      "Fraction of events inside CSC =  0.029\n"
     ]
    }
   ],
   "source": [
    "llp_csc = ak.any(events.gLLP_csc,axis=1)\n",
    "print(\"LLP decay inside CSC = \",ak.sum(llp_csc))\n",
    "print(\"Total events = \",len(events))\n",
    "print(\"Fraction of events inside CSC = \",np.round(ak.sum(llp_csc)/len(events),3))"
   ]
  },
  {
   "cell_type": "code",
   "execution_count": 203,
   "metadata": {},
   "outputs": [
    {
     "data": {
      "text/plain": [
       "<Array [[], [], [], [], ... [], [], [], []] type='151269 * var * float32'>"
      ]
     },
     "execution_count": 203,
     "metadata": {},
     "output_type": "execute_result"
    }
   ],
   "source": [
    "events.gLLP_pt"
   ]
  },
  {
   "cell_type": "code",
   "execution_count": null,
   "metadata": {},
   "outputs": [],
   "source": []
  },
  {
   "cell_type": "code",
   "execution_count": null,
   "metadata": {},
   "outputs": [],
   "source": []
  },
  {
   "cell_type": "code",
   "execution_count": null,
   "metadata": {},
   "outputs": [],
   "source": []
  },
  {
   "cell_type": "code",
   "execution_count": 139,
   "metadata": {},
   "outputs": [],
   "source": [
    "llp_csc = ak.any(events.gLLP_csc,axis=1)\n",
    "events = events[(llp_csc==1)]\n",
    "\n",
    "\n",
    "llp=ak.zip({\n",
    "    'pt':events.gLLP_pt,\n",
    "    'EMfrac':events.gLLP_EMFracE,\n",
    "    'e':events.gLLP_e,\n",
    "    'z':events.gLLP_decay_vertex_z ,\n",
    "    'r':events.gLLP_decay_vertex_r,\n",
    "}      \n",
    ")  \n",
    "\n",
    "llp = llp[llp.e>0]\n",
    "\n",
    "lep=ak.zip({\n",
    "    'pt':events.lepPt ,\n",
    "    'eta':events.lepEta,\n",
    "    'phi':events.lepPhi,\n",
    "    'energy':events.lepE,\n",
    "},with_name='PtEtaPhiELorentzVector',\n",
    "behavior=vector.behavior    \n",
    ")  \n",
    "\n",
    "cluster= ak.zip(\n",
    "    {\n",
    "        \"n\":events.nCscRechitClusters3,\n",
    "        \"time\":events.cscRechitCluster3Time,\n",
    "        \"timeSpread\":events.cscRechitCluster3TimeSpread,\n",
    "        \"eta\":events.cscRechitCluster3Eta,\n",
    "        \"phi\":events.cscRechitCluster3Phi,        \n",
    "        \"NChamber\":events.cscRechitCluster3NChamber,\n",
    "        \"MaxChamber\":events.cscRechitCluster3MaxChamber,\n",
    "        \"MaxStation\":events.cscRechitCluster3MaxStation,\n",
    "        'NRechitChamberPlus11':events.cscRechitCluster3NRechitChamberPlus11,\n",
    "        'NRechitChamberPlus12':events.cscRechitCluster3NRechitChamberPlus12,\n",
    "        'NRechitChamberMinus11':events.cscRechitCluster3NRechitChamberMinus11,\n",
    "        'NRechitChamberMinus12':events.cscRechitCluster3NRechitChamberMinus12,\n",
    "        'match_MB1Seg_0p4':events.cscRechitCluster3_match_MB1Seg_0p4,\n",
    "        'match_RE12_0p4':events.cscRechitCluster3_match_RE12_0p4,        \n",
    "        'match_RB1_0p4':events.cscRechitCluster3_match_RB1_0p4,                \n",
    "        \n",
    "        \"NStation10\":events.cscRechitCluster3NStation10,\n",
    "        \"AvgStation10\":events.cscRechitCluster3AvgStation10,\n",
    "        \"llp_match\":events.cscRechitCluster3_match_gLLP,\n",
    "        \"dphi_cluster_MET\":events.cscRechitCluster3MetXYCorr_dPhi,\n",
    "    }\n",
    ")\n",
    "\n",
    "cluster_dir= ak.zip(\n",
    "    {\n",
    "        'pt':ak.ones_like(events.cscRechitCluster3Eta),\n",
    "        \"eta\":events.cscRechitCluster3Eta,\n",
    "        \"phi\":events.cscRechitCluster3Phi,\n",
    "        'mass':ak.zeros_like(events.cscRechitCluster3Eta)\n",
    "    },with_name=\"PtEtaPhiMLorentzVector\",\n",
    "    behavior=vector.behavior\n",
    ")"
   ]
  },
  {
   "cell_type": "code",
   "execution_count": 172,
   "metadata": {},
   "outputs": [
    {
     "data": {
      "text/plain": [
       "{(): array([ 54., 126.])}"
      ]
     },
     "execution_count": 172,
     "metadata": {},
     "output_type": "execute_result"
    }
   ],
   "source": [
    "# # a = ak.flatten(llp.z[ak.any(ClusterID,axis=1)])\n",
    "# <Array [908, -694, 859, ... -1.07e+03, -974] type='15 * float32'>\n",
    "# b = ak.flatten(llp.z)\n",
    "# <Array [621, 908, -721, ... -1.07e+03, -974] type='63 * float32'>\n",
    "# ak.flatten(ak.fill_none(ak.mask(llp.z,ak.any(ClusterID,axis=1)),[0]))\n",
    "# <Array [0, 908, 0, 0, ... 0, -1.07e+03, -974] type='63 * float64'>\n",
    "\n",
    "def maskAndFill(denom,selection,value):\n",
    "    numer = ak.mask(denom,selection)\n",
    "    numer = ak.fill_none(numer, value) #fill none with same structure\n",
    "    return ak.flatten(numer)\n",
    "\n",
    "\n",
    "numer = maskAndFill(llp.e,ak.any(cluster.llp_match,axis=1),len(llp.e[0])*[0])\n",
    "selection=ak.values_astype(numer>0,np.int)\n",
    "\n",
    "h = hist.Hist(\"Events\", hist.Bin(\"selection\", \"pass/fail\", 2, 0, 2),\n",
    "            hist.Bin(\"denom\", \"z\", 50, 500, 1100)\n",
    "         )\n",
    "h.fill(selection=ak.values_astype(numer>0,np.int),\n",
    "       denom=ak.flatten(llp.z)\n",
    ")\n",
    "h.project('selection').values()"
   ]
  },
  {
   "cell_type": "code",
   "execution_count": 165,
   "metadata": {},
   "outputs": [
    {
     "data": {
      "text/plain": [
       "<Array [] type='0 * bool'>"
      ]
     },
     "execution_count": 165,
     "metadata": {},
     "output_type": "execute_result"
    }
   ],
   "source": [
    "cluster.llp_match[3]"
   ]
  },
  {
   "cell_type": "code",
   "execution_count": 164,
   "metadata": {},
   "outputs": [
    {
     "data": {
      "text/plain": [
       "(array([  0,   1,   2,   4,   5,   8,   9,  10,  11,  12,  14,  16,  17,\n",
       "         19,  20,  21,  22,  23,  24,  26,  27,  29,  31,  33,  34,  35,\n",
       "         36,  37,  40,  41,  43,  45,  46,  47,  49,  50,  52,  54,  56,\n",
       "         57,  58,  59,  60,  62,  63,  64,  65,  66,  68,  69,  70,  72,\n",
       "         73,  74,  75,  76,  77,  79,  80,  81,  83,  84,  86,  89,  92,\n",
       "         93,  94,  96,  97,  99, 100, 101, 103, 105, 107, 108, 110, 111,\n",
       "        113, 114, 115, 116, 117, 118, 119, 120, 121, 122, 124, 126, 129,\n",
       "        130, 131, 133, 136, 140, 141, 142, 144, 145, 146, 148, 149, 150,\n",
       "        151, 154, 156, 157, 159, 161, 162, 163, 164, 166, 167, 169, 170,\n",
       "        173, 174, 175, 176, 177, 178, 179, 181, 182, 183, 184, 185, 187,\n",
       "        188, 189, 190, 191, 192, 193, 195, 196, 197, 198, 199, 200, 202,\n",
       "        203, 204, 206, 208, 209, 210, 211, 212, 213, 215, 216, 217, 218,\n",
       "        220, 221, 223, 224, 228, 230, 233, 234, 236, 237, 241, 242, 244,\n",
       "        245, 246, 249, 250, 251, 253, 254, 255, 258, 259, 262, 263, 264,\n",
       "        266, 268, 271, 274, 275, 277, 278, 279, 280, 282, 283]),)"
      ]
     },
     "execution_count": 164,
     "metadata": {},
     "output_type": "execute_result"
    }
   ],
   "source": [
    "np.where(ak.any(cluster.llp_match,axis=1))"
   ]
  },
  {
   "cell_type": "code",
   "execution_count": 170,
   "metadata": {},
   "outputs": [
    {
     "data": {
      "text/plain": [
       "<Array [[47.1, 97.4], [133, ... [167, 57.6]] type='284 * var * float64'>"
      ]
     },
     "execution_count": 170,
     "metadata": {},
     "output_type": "execute_result"
    }
   ],
   "source": [
    "ak.fill_none(ak.mask(llp.e,ak.any(cluster.llp_match,axis=1)),[0]*2)"
   ]
  },
  {
   "cell_type": "code",
   "execution_count": 182,
   "metadata": {},
   "outputs": [
    {
     "data": {
      "text/plain": [
       "<Array [(47.1, 0), (97.4, 0)] type='2 * (float32, int64)'>"
      ]
     },
     "execution_count": 182,
     "metadata": {},
     "output_type": "execute_result"
    }
   ],
   "source": []
  },
  {
   "cell_type": "code",
   "execution_count": 100,
   "metadata": {},
   "outputs": [
    {
     "data": {
      "text/plain": [
       "4416"
      ]
     },
     "execution_count": 100,
     "metadata": {},
     "output_type": "execute_result"
    }
   ],
   "source": [
    "ak.sum(numer==0)+ak.sum(numer>0)"
   ]
  },
  {
   "cell_type": "code",
   "execution_count": 101,
   "metadata": {},
   "outputs": [
    {
     "data": {
      "text/plain": [
       "2180"
      ]
     },
     "execution_count": 101,
     "metadata": {},
     "output_type": "execute_result"
    }
   ],
   "source": [
    "ak.sum(numer>0)"
   ]
  },
  {
   "cell_type": "code",
   "execution_count": 102,
   "metadata": {},
   "outputs": [
    {
     "data": {
      "text/plain": [
       "2236"
      ]
     },
     "execution_count": 102,
     "metadata": {},
     "output_type": "execute_result"
    }
   ],
   "source": [
    "ak.sum(numer==0)"
   ]
  },
  {
   "cell_type": "code",
   "execution_count": 40,
   "metadata": {},
   "outputs": [
    {
     "data": {
      "text/plain": [
       "1099.588"
      ]
     },
     "execution_count": 40,
     "metadata": {},
     "output_type": "execute_result"
    }
   ],
   "source": [
    "ak.max(events.gLLP_decay_vertex_z)"
   ]
  },
  {
   "cell_type": "code",
   "execution_count": 41,
   "metadata": {},
   "outputs": [
    {
     "data": {
      "text/plain": [
       "<Array [[621], [908], ... [1.08e+03], [-571]] type='4416 * option[var * float32]'>"
      ]
     },
     "execution_count": 41,
     "metadata": {},
     "output_type": "execute_result"
    }
   ],
   "source": [
    "llp.z"
   ]
  },
  {
   "cell_type": "code",
   "execution_count": 114,
   "metadata": {},
   "outputs": [
    {
     "data": {
      "text/plain": [
       "<Array [[-694], [924], [-974]] type='3 * option[var * float32]'>"
      ]
     },
     "execution_count": 114,
     "metadata": {},
     "output_type": "execute_result"
    }
   ],
   "source": [
    "ak.any(cluster.n>1,axis=1)\n",
    "llp.z[ak.any(cluster.n>1,axis=1)]"
   ]
  },
  {
   "cell_type": "code",
   "execution_count": 116,
   "metadata": {},
   "outputs": [
    {
     "data": {
      "text/plain": [
       "<Array [[True], [True], ... [True, True]] type='63 * option[var * bool]'>"
      ]
     },
     "execution_count": 116,
     "metadata": {},
     "output_type": "execute_result"
    }
   ],
   "source": [
    "cluster.NChamber>1"
   ]
  },
  {
   "cell_type": "code",
   "execution_count": 198,
   "metadata": {},
   "outputs": [
    {
     "data": {
      "text/plain": [
       "<Array [[True], [False], ... [True, False]] type='63 * option[var * bool]'>"
      ]
     },
     "execution_count": 198,
     "metadata": {},
     "output_type": "execute_result"
    }
   ],
   "source": [
    "abs(cluster.eta)<1.9"
   ]
  },
  {
   "cell_type": "code",
   "execution_count": 208,
   "metadata": {},
   "outputs": [],
   "source": [
    "clusterID=((cluster.NStation10>1) & (abs(cluster.eta)<1.9))|\\\n",
    "((cluster.NStation10==1) &(abs(cluster.AvgStation10)==4) & (abs(cluster.eta)<1.8))|\\\n",
    "((cluster.NStation10==1) &(abs(cluster.AvgStation10)==3) & (abs(cluster.eta)<1.6))|\\\n",
    "((cluster.NStation10==1) &(abs(cluster.AvgStation10)==2) & (abs(cluster.eta)<1.6))"
   ]
  },
  {
   "cell_type": "code",
   "execution_count": 228,
   "metadata": {},
   "outputs": [],
   "source": [
    "clusterVeto= ((cluster.NRechitChamberPlus11<=0)&(cluster.NRechitChamberPlus12<=0)&\\\n",
    "              (cluster.NRechitChamberMinus11<=0)&(cluster.NRechitChamberMinus12<=0)&\\\n",
    "              (cluster.match_MB1Seg_0p4<=0)&(cluster.match_RE12_0p4<=0)&\\\n",
    "              (cluster.match_RB1_0p4<=0)\n",
    "             )"
   ]
  },
  {
   "cell_type": "code",
   "execution_count": 44,
   "metadata": {},
   "outputs": [
    {
     "data": {
      "text/plain": [
       "<Array [True, True, False, ... False, False] type='4416 * ?bool'>"
      ]
     },
     "execution_count": 44,
     "metadata": {},
     "output_type": "execute_result"
    }
   ],
   "source": [
    "ak.any(cluster.llp_match,axis=1)"
   ]
  },
  {
   "cell_type": "code",
   "execution_count": 239,
   "metadata": {},
   "outputs": [
    {
     "data": {
      "text/plain": [
       "15"
      ]
     },
     "execution_count": 239,
     "metadata": {},
     "output_type": "execute_result"
    }
   ],
   "source": [
    "ak.sum(ClusterID)"
   ]
  },
  {
   "cell_type": "code",
   "execution_count": 237,
   "metadata": {},
   "outputs": [
    {
     "data": {
      "text/plain": [
       "3"
      ]
     },
     "execution_count": 237,
     "metadata": {},
     "output_type": "execute_result"
    }
   ],
   "source": [
    "ak.sum(ak.Array([[True,True],[False,True]]))"
   ]
  },
  {
   "cell_type": "code",
   "execution_count": 210,
   "metadata": {},
   "outputs": [
    {
     "data": {
      "text/plain": [
       "<Array [908, -694, 859, ... -1.07e+03, -974] type='15 * float32'>"
      ]
     },
     "execution_count": 210,
     "metadata": {},
     "output_type": "execute_result"
    }
   ],
   "source": [
    "ClusterID= ((cluster.AvgStation10>2)&(cluster.NChamber>1))\n",
    "ak.flatten(llp.z[ak.any(ClusterID,axis=1)])"
   ]
  },
  {
   "cell_type": "code",
   "execution_count": 213,
   "metadata": {},
   "outputs": [
    {
     "data": {
      "text/plain": [
       "<Array [[621], [908], ... [-1.07e+03], [-974]] type='63 * option[var * float32]'>"
      ]
     },
     "execution_count": 213,
     "metadata": {},
     "output_type": "execute_result"
    }
   ],
   "source": [
    "llp.z"
   ]
  },
  {
   "cell_type": "code",
   "execution_count": null,
   "metadata": {},
   "outputs": [],
   "source": [
    "events.gLLP_EMFracE"
   ]
  },
  {
   "cell_type": "code",
   "execution_count": 214,
   "metadata": {},
   "outputs": [
    {
     "data": {
      "text/plain": [
       "<Array [[907], [-693], ... [-1074], [-973]] type='15 * option[var * int64]'>"
      ]
     },
     "execution_count": 214,
     "metadata": {},
     "output_type": "execute_result"
    }
   ],
   "source": [
    "ak.values_astype(llp.z[ak.any(ClusterID,axis=1)],np.int)"
   ]
  },
  {
   "cell_type": "code",
   "execution_count": 45,
   "metadata": {},
   "outputs": [],
   "source": []
  },
  {
   "cell_type": "code",
   "execution_count": 46,
   "metadata": {},
   "outputs": [],
   "source": []
  },
  {
   "cell_type": "code",
   "execution_count": 50,
   "metadata": {},
   "outputs": [
    {
     "data": {
      "text/plain": [
       "<Array [True, True, False, ... False, False] type='4416 * bool'>"
      ]
     },
     "execution_count": 50,
     "metadata": {},
     "output_type": "execute_result"
    }
   ],
   "source": [
    "numer>0"
   ]
  },
  {
   "cell_type": "code",
   "execution_count": 52,
   "metadata": {},
   "outputs": [
    {
     "data": {
      "text/plain": [
       "<Array [1, 1, 0, 1, 0, 0, ... 1, 0, 0, 1, 0, 0] type='4416 * int64'>"
      ]
     },
     "execution_count": 52,
     "metadata": {},
     "output_type": "execute_result"
    }
   ],
   "source": []
  },
  {
   "cell_type": "code",
   "execution_count": 53,
   "metadata": {},
   "outputs": [
    {
     "data": {
      "text/plain": [
       "<Array [621, 908, -721, ... 1.08e+03, -571] type='4416 * float32'>"
      ]
     },
     "execution_count": 53,
     "metadata": {},
     "output_type": "execute_result"
    }
   ],
   "source": [
    "ak.flatten(llp.z)"
   ]
  },
  {
   "cell_type": "code",
   "execution_count": 66,
   "metadata": {},
   "outputs": [],
   "source": []
  },
  {
   "cell_type": "code",
   "execution_count": 67,
   "metadata": {},
   "outputs": [],
   "source": []
  },
  {
   "cell_type": "code",
   "execution_count": 65,
   "metadata": {},
   "outputs": [
    {
     "data": {
      "text/plain": [
       "{(): array([[57., 66., 54., 61., 72., 60., 70., 70., 50., 56., 48., 46., 54.,\n",
       "         52., 61., 52., 21.,  0.,  0.,  0.,  0.,  0.,  0.,  0.,  0.,  0.,\n",
       "          0.,  0.,  0.,  0.,  0.,  0.,  0.,  0.,  0.,  0.,  0.,  0.,  0.,\n",
       "          0.,  0.,  0.,  0.,  0.,  0.,  0.,  0.,  0.,  0.,  0.],\n",
       "        [22., 30., 20., 17., 16., 17., 20., 14.,  9., 12., 11., 14.,  7.,\n",
       "          1.,  3.,  0.,  0.,  0.,  0.,  0.,  0.,  0.,  0.,  0.,  0.,  0.,\n",
       "          0.,  0.,  0.,  0.,  0.,  0.,  0.,  0.,  0.,  0.,  0.,  0.,  0.,\n",
       "          0.,  0.,  0.,  0.,  0.,  0.,  0.,  0.,  0.,  0.,  0.]])}"
      ]
     },
     "execution_count": 65,
     "metadata": {},
     "output_type": "execute_result"
    }
   ],
   "source": [
    "h.values()"
   ]
  },
  {
   "cell_type": "code",
   "execution_count": 71,
   "metadata": {},
   "outputs": [
    {
     "data": {
      "text/plain": [
       "{(): array([950., 213.])}"
      ]
     },
     "execution_count": 71,
     "metadata": {},
     "output_type": "execute_result"
    }
   ],
   "source": []
  },
  {
   "cell_type": "code",
   "execution_count": 59,
   "metadata": {},
   "outputs": [
    {
     "ename": "IndexError",
     "evalue": "Cannot understand slice 'selection' on axis <Bin (name=selection) instance at 0x7f7c5c490320>",
     "output_type": "error",
     "traceback": [
      "\u001b[0;31m---------------------------------------------------------------------------\u001b[0m",
      "\u001b[0;31mIndexError\u001b[0m                                Traceback (most recent call last)",
      "\u001b[0;32m<ipython-input-59-3968240f28e1>\u001b[0m in \u001b[0;36m<module>\u001b[0;34m\u001b[0m\n\u001b[0;32m----> 1\u001b[0;31m \u001b[0mh\u001b[0m\u001b[0;34m[\u001b[0m\u001b[0;34m'selection'\u001b[0m\u001b[0;34m]\u001b[0m\u001b[0;34m.\u001b[0m\u001b[0mvalues\u001b[0m\u001b[0;34m(\u001b[0m\u001b[0;34m)\u001b[0m\u001b[0;34m\u001b[0m\u001b[0m\n\u001b[0m",
      "\u001b[0;32m/uscms_data/d3/kkwok/LLP/CMSSW_10_6_20/src/llp_analyzer/coffeaenv/lib/python3.6/site-packages/coffea/hist/hist_tools.py\u001b[0m in \u001b[0;36m__getitem__\u001b[0;34m(self, keys)\u001b[0m\n\u001b[1;32m    902\u001b[0m                 \u001b[0mnew_dims\u001b[0m\u001b[0;34m.\u001b[0m\u001b[0mappend\u001b[0m\u001b[0;34m(\u001b[0m\u001b[0max\u001b[0m\u001b[0;34m)\u001b[0m\u001b[0;34m\u001b[0m\u001b[0m\n\u001b[1;32m    903\u001b[0m             \u001b[0;32melse\u001b[0m\u001b[0;34m:\u001b[0m\u001b[0;34m\u001b[0m\u001b[0m\n\u001b[0;32m--> 904\u001b[0;31m                 \u001b[0mislice\u001b[0m \u001b[0;34m=\u001b[0m \u001b[0max\u001b[0m\u001b[0;34m.\u001b[0m\u001b[0m_ireduce\u001b[0m\u001b[0;34m(\u001b[0m\u001b[0ms\u001b[0m\u001b[0;34m)\u001b[0m\u001b[0;34m\u001b[0m\u001b[0m\n\u001b[0m\u001b[1;32m    905\u001b[0m                 \u001b[0mdense_idx\u001b[0m\u001b[0;34m.\u001b[0m\u001b[0mappend\u001b[0m\u001b[0;34m(\u001b[0m\u001b[0mislice\u001b[0m\u001b[0;34m)\u001b[0m\u001b[0;34m\u001b[0m\u001b[0m\n\u001b[1;32m    906\u001b[0m                 \u001b[0mnew_dims\u001b[0m\u001b[0;34m.\u001b[0m\u001b[0mappend\u001b[0m\u001b[0;34m(\u001b[0m\u001b[0max\u001b[0m\u001b[0;34m.\u001b[0m\u001b[0mreduced\u001b[0m\u001b[0;34m(\u001b[0m\u001b[0mislice\u001b[0m\u001b[0;34m)\u001b[0m\u001b[0;34m)\u001b[0m\u001b[0;34m\u001b[0m\u001b[0m\n",
      "\u001b[0;32m/uscms_data/d3/kkwok/LLP/CMSSW_10_6_20/src/llp_analyzer/coffeaenv/lib/python3.6/site-packages/coffea/hist/hist_tools.py\u001b[0m in \u001b[0;36m_ireduce\u001b[0;34m(self, the_slice)\u001b[0m\n\u001b[1;32m    594\u001b[0m         \u001b[0;32melif\u001b[0m \u001b[0misinstance\u001b[0m\u001b[0;34m(\u001b[0m\u001b[0mthe_slice\u001b[0m\u001b[0;34m,\u001b[0m \u001b[0mlist\u001b[0m\u001b[0;34m)\u001b[0m \u001b[0;32mand\u001b[0m \u001b[0mall\u001b[0m\u001b[0;34m(\u001b[0m\u001b[0misinstance\u001b[0m\u001b[0;34m(\u001b[0m\u001b[0mv\u001b[0m\u001b[0;34m,\u001b[0m \u001b[0mInterval\u001b[0m\u001b[0;34m)\u001b[0m \u001b[0;32mfor\u001b[0m \u001b[0mv\u001b[0m \u001b[0;32min\u001b[0m \u001b[0mthe_slice\u001b[0m\u001b[0;34m)\u001b[0m\u001b[0;34m:\u001b[0m\u001b[0;34m\u001b[0m\u001b[0m\n\u001b[1;32m    595\u001b[0m             \u001b[0;32mraise\u001b[0m \u001b[0mNotImplementedError\u001b[0m\u001b[0;34m(\u001b[0m\u001b[0;34m\"Slice histogram from list of intervals\"\u001b[0m\u001b[0;34m)\u001b[0m\u001b[0;34m\u001b[0m\u001b[0m\n\u001b[0;32m--> 596\u001b[0;31m         \u001b[0;32mraise\u001b[0m \u001b[0mIndexError\u001b[0m\u001b[0;34m(\u001b[0m\u001b[0;34m\"Cannot understand slice %r on axis %r\"\u001b[0m \u001b[0;34m%\u001b[0m \u001b[0;34m(\u001b[0m\u001b[0mthe_slice\u001b[0m\u001b[0;34m,\u001b[0m \u001b[0mself\u001b[0m\u001b[0;34m)\u001b[0m\u001b[0;34m)\u001b[0m\u001b[0;34m\u001b[0m\u001b[0m\n\u001b[0m\u001b[1;32m    597\u001b[0m \u001b[0;34m\u001b[0m\u001b[0m\n\u001b[1;32m    598\u001b[0m     \u001b[0;32mdef\u001b[0m \u001b[0mreduced\u001b[0m\u001b[0;34m(\u001b[0m\u001b[0mself\u001b[0m\u001b[0;34m,\u001b[0m \u001b[0mislice\u001b[0m\u001b[0;34m)\u001b[0m\u001b[0;34m:\u001b[0m\u001b[0;34m\u001b[0m\u001b[0m\n",
      "\u001b[0;31mIndexError\u001b[0m: Cannot understand slice 'selection' on axis <Bin (name=selection) instance at 0x7f7c5c490320>"
     ]
    }
   ],
   "source": [
    "h[''].values()"
   ]
  },
  {
   "cell_type": "code",
   "execution_count": 12,
   "metadata": {},
   "outputs": [
    {
     "data": {
      "text/plain": [
       "<Array [33.4, 34.4, 29.6, ... 34.5, 3.49, 23.3] type='63 * float32'>"
      ]
     },
     "execution_count": 12,
     "metadata": {},
     "output_type": "execute_result"
    }
   ],
   "source": [
    "events.gLLP_pt[events.gLLP_csc==1]"
   ]
  },
  {
   "cell_type": "code",
   "execution_count": 13,
   "metadata": {},
   "outputs": [
    {
     "data": {
      "text/plain": [
       "<Array [[3.09, 2.59], ... [-3.03, 1.37]] type='63 * 2 * float32'>"
      ]
     },
     "execution_count": 13,
     "metadata": {},
     "output_type": "execute_result"
    }
   ],
   "source": [
    "events.gLLP_lepdPhi"
   ]
  },
  {
   "cell_type": "code",
   "execution_count": 22,
   "metadata": {},
   "outputs": [
    {
     "data": {
      "text/plain": [
       "<Array [[True, False], ... [True, False]] type='63 * 2 * bool'>"
      ]
     },
     "execution_count": 22,
     "metadata": {},
     "output_type": "execute_result"
    }
   ],
   "source": [
    "events.gLLP_decay_vertex_z!=-666"
   ]
  },
  {
   "cell_type": "code",
   "execution_count": 6,
   "metadata": {},
   "outputs": [
    {
     "data": {
      "text/plain": [
       "<Array [0, 0, 0, 0, 1, 0, ... 0, 0, 0, 1, 0, 1] type='41 * int64'>"
      ]
     },
     "execution_count": 6,
     "metadata": {},
     "output_type": "execute_result"
    }
   ],
   "source": [
    "ak.flatten(ak.values_astype(~cluster.llp_match,np.int))"
   ]
  },
  {
   "cell_type": "code",
   "execution_count": 146,
   "metadata": {},
   "outputs": [
    {
     "data": {
      "text/plain": [
       "<Array [1, 1, 1, 2, 2, 1, ... 1, 1, 1, 1, 1, 1] type='1091 * int32'>"
      ]
     },
     "execution_count": 146,
     "metadata": {},
     "output_type": "execute_result"
    }
   ],
   "source": [
    "ak.flatten(cluster.n)"
   ]
  },
  {
   "cell_type": "code",
   "execution_count": 33,
   "metadata": {},
   "outputs": [],
   "source": [
    "cls_lep_pair = ak.cartesian({\"cls\":cluster_dir,'lep':lep},axis=1,nested=True)\n",
    "\n",
    "dphi_lep_cls = cls_lep_pair.cls.delta_phi(cls_lep_pair.lep)"
   ]
  },
  {
   "cell_type": "code",
   "execution_count": 30,
   "metadata": {},
   "outputs": [
    {
     "data": {
      "text/plain": [
       "array([(1., 1.5951381, 0.12471689, 0.)],\n",
       "      dtype=[('pt', '<f4'), ('eta', '<f4'), ('phi', '<f4'), ('mass', '<f4')])"
      ]
     },
     "execution_count": 30,
     "metadata": {},
     "output_type": "execute_result"
    }
   ],
   "source": [
    "ak.to_numpy(cluster_dir[cluster.llp_match][10])"
   ]
  },
  {
   "cell_type": "code",
   "execution_count": 96,
   "metadata": {},
   "outputs": [
    {
     "data": {
      "text/plain": [
       "<Array [-694, 924, -974] type='3 * float32'>"
      ]
     },
     "execution_count": 96,
     "metadata": {},
     "output_type": "execute_result"
    }
   ],
   "source": [
    "llp=llp[llp.e>0]\n",
    "ak.flatten(llp.z[ak.num(cluster)>1])"
   ]
  },
  {
   "cell_type": "code",
   "execution_count": 97,
   "metadata": {},
   "outputs": [
    {
     "data": {
      "text/plain": [
       "<Array [621, 908, -721, ... -1.07e+03, -974] type='63 * float32'>"
      ]
     },
     "execution_count": 97,
     "metadata": {},
     "output_type": "execute_result"
    }
   ],
   "source": [
    "ak.flatten(llp.z)"
   ]
  },
  {
   "cell_type": "code",
   "execution_count": 51,
   "metadata": {},
   "outputs": [
    {
     "data": {
      "text/plain": [
       "(array([ 6, 10, 62]),)"
      ]
     },
     "execution_count": 51,
     "metadata": {},
     "output_type": "execute_result"
    }
   ],
   "source": [
    "np.where(ak.num(cluster)>1)"
   ]
  },
  {
   "cell_type": "code",
   "execution_count": 80,
   "metadata": {},
   "outputs": [
    {
     "data": {
      "text/plain": [
       "1"
      ]
     },
     "execution_count": 80,
     "metadata": {},
     "output_type": "execute_result"
    }
   ],
   "source": []
  },
  {
   "cell_type": "code",
   "execution_count": 56,
   "metadata": {},
   "outputs": [
    {
     "data": {
      "text/plain": [
       "<Array [407, 942] type='2 * float32'>"
      ]
     },
     "execution_count": 56,
     "metadata": {},
     "output_type": "execute_result"
    }
   ],
   "source": [
    "llp.r[62]"
   ]
  },
  {
   "cell_type": "code",
   "execution_count": 22,
   "metadata": {},
   "outputs": [
    {
     "data": {
      "text/plain": [
       "(array([ 6, 10, 62]),)"
      ]
     },
     "execution_count": 22,
     "metadata": {},
     "output_type": "execute_result"
    }
   ],
   "source": [
    "np.where(ak.num(cluster)>1)"
   ]
  },
  {
   "cell_type": "code",
   "execution_count": 154,
   "metadata": {},
   "outputs": [
    {
     "data": {
      "text/plain": [
       "<Array [1, 1, 1, 1, 0, 1, ... 1, 1, 1, 1, 1, 1] type='1091 * int64'>"
      ]
     },
     "execution_count": 154,
     "metadata": {},
     "output_type": "execute_result"
    }
   ],
   "source": [
    "ak.flatten(ak.values_astype(cluster.llp_match,np.int))"
   ]
  },
  {
   "cell_type": "code",
   "execution_count": 160,
   "metadata": {},
   "outputs": [
    {
     "data": {
      "text/plain": [
       "<Array [[], [], [2.84], ... [], [], [-3.01]] type='1091 * union[var * float32, i...'>"
      ]
     },
     "execution_count": 160,
     "metadata": {},
     "output_type": "execute_result"
    }
   ],
   "source": [
    "ak.fill_none(ak.flatten(dphi_lep_cls),-600)"
   ]
  },
  {
   "cell_type": "code",
   "execution_count": 163,
   "metadata": {},
   "outputs": [
    {
     "data": {
      "text/plain": [
       "<Array [-0.314, -0.411, -1.78, ... -1.8, 0.296] type='9 * float32'>"
      ]
     },
     "execution_count": 163,
     "metadata": {},
     "output_type": "execute_result"
    }
   ],
   "source": [
    "ak.flatten(dphi_lep_cls[~cluster.llp_match],axis=None)"
   ]
  },
  {
   "cell_type": "code",
   "execution_count": 164,
   "metadata": {},
   "outputs": [
    {
     "data": {
      "text/plain": [
       "<Array [2.84, 3.08, -3.12, ... 3.01, -3.01] type='179 * float32'>"
      ]
     },
     "execution_count": 164,
     "metadata": {},
     "output_type": "execute_result"
    }
   ],
   "source": [
    "ak.flatten(dphi_lep_cls[cluster.llp_match],axis=None)"
   ]
  },
  {
   "cell_type": "code",
   "execution_count": 166,
   "metadata": {},
   "outputs": [
    {
     "data": {
      "text/plain": [
       "<Array [0, 0, 0, 0, 0, 0, ... 0, 0, 0, 0, 0, 0] type='179 * float32'>"
      ]
     },
     "execution_count": 166,
     "metadata": {},
     "output_type": "execute_result"
    }
   ],
   "source": [
    "ak.flatten(dphi_lep_cls[~cluster.llp_match],axis=None)\n",
    "ak.zeros_like(ak.flatten(dphi_lep_cls[cluster.llp_match],axis=None))"
   ]
  },
  {
   "cell_type": "code",
   "execution_count": 87,
   "metadata": {},
   "outputs": [
    {
     "data": {
      "text/plain": [
       "array([ 2.8449643 ,  3.0809057 , -3.1249049 , -0.31369328, -3.1015875 ,\n",
       "       -2.8946662 , -2.731911  ,  3.0177443 ], dtype=float32)"
      ]
     },
     "execution_count": 87,
     "metadata": {},
     "output_type": "execute_result"
    }
   ],
   "source": [
    "ak.to_numpy(ak.flatten(dphi_lep_cls,axis=None))"
   ]
  },
  {
   "cell_type": "code",
   "execution_count": null,
   "metadata": {},
   "outputs": [],
   "source": []
  }
 ],
 "metadata": {
  "kernelspec": {
   "display_name": "coffeaenv",
   "language": "python",
   "name": "coffeaenv"
  },
  "language_info": {
   "codemirror_mode": {
    "name": "ipython",
    "version": 3
   },
   "file_extension": ".py",
   "mimetype": "text/x-python",
   "name": "python",
   "nbconvert_exporter": "python",
   "pygments_lexer": "ipython3",
   "version": "3.6.5"
  }
 },
 "nbformat": 4,
 "nbformat_minor": 2
}
